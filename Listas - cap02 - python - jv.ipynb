{
 "cells": [
  {
   "cell_type": "markdown",
   "metadata": {},
   "source": [
    "<h2> Listas - Arrays </h2>"
   ]
  },
  {
   "cell_type": "code",
   "execution_count": 97,
   "metadata": {},
   "outputs": [
    {
     "name": "stdout",
     "output_type": "stream",
     "text": [
      "Versão da Linguagem Python Usada Neste Jupyter Notebook: 3.8.5\n"
     ]
    }
   ],
   "source": [
    "# Versão da Linguagem Python\n",
    "from platform import python_version\n",
    "print('Versão da Linguagem Python Usada Neste Jupyter Notebook:', python_version())"
   ]
  },
  {
   "cell_type": "markdown",
   "metadata": {},
   "source": [
    "<h5>Lista 1</h5>"
   ]
  },
  {
   "cell_type": "code",
   "execution_count": 1,
   "metadata": {},
   "outputs": [],
   "source": [
    "#Criando listas\n",
    "listamercado = [\"ovos, farinha, leite, pão\"] # Nessa lista, ovos, farinha, leite e pão são todos o indice[0]"
   ]
  },
  {
   "cell_type": "code",
   "execution_count": 2,
   "metadata": {},
   "outputs": [
    {
     "name": "stdout",
     "output_type": "stream",
     "text": [
      "['ovos, farinha, leite, pão']\n"
     ]
    }
   ],
   "source": [
    "#imprimindo a Lista\n",
    "print(listamercado)"
   ]
  },
  {
   "cell_type": "code",
   "execution_count": 5,
   "metadata": {},
   "outputs": [
    {
     "name": "stdout",
     "output_type": "stream",
     "text": [
      "ovos, farinha, leite, pão\n"
     ]
    }
   ],
   "source": [
    "#imprimindo a Lista indice 0\n",
    "print(listamercado[0])"
   ]
  },
  {
   "cell_type": "markdown",
   "metadata": {},
   "source": [
    "<h5>Lista 2</h5>"
   ]
  },
  {
   "cell_type": "code",
   "execution_count": 6,
   "metadata": {},
   "outputs": [],
   "source": [
    "#Criando lista 2\n",
    "listamercado2 =[\"pão\", \"ovo\",\"farinha\",\"leite\"] #cada item tem um indice agora"
   ]
  },
  {
   "cell_type": "code",
   "execution_count": 11,
   "metadata": {},
   "outputs": [
    {
     "name": "stdout",
     "output_type": "stream",
     "text": [
      "['pão', 'ovo', 'farinha', 'leite']\n"
     ]
    }
   ],
   "source": [
    "#imprimindo a Lista\n",
    "print(listamercado2)"
   ]
  },
  {
   "cell_type": "code",
   "execution_count": null,
   "metadata": {},
   "outputs": [],
   "source": [
    "#imprimindo a Lista2 indice0\n",
    "print(listamercado2[0])"
   ]
  },
  {
   "cell_type": "markdown",
   "metadata": {},
   "source": [
    "<h5>Lista 3</h5>"
   ]
  },
  {
   "cell_type": "code",
   "execution_count": 16,
   "metadata": {},
   "outputs": [],
   "source": [
    "#lista 3\n",
    "lista3 =[\"Universidade\", 325, None, bool]"
   ]
  },
  {
   "cell_type": "code",
   "execution_count": 20,
   "metadata": {},
   "outputs": [
    {
     "name": "stdout",
     "output_type": "stream",
     "text": [
      "['Universidade', 325, None, <class 'bool'>]\n"
     ]
    }
   ],
   "source": [
    "print(lista3)"
   ]
  },
  {
   "cell_type": "code",
   "execution_count": 21,
   "metadata": {},
   "outputs": [
    {
     "data": {
      "text/plain": [
       "list"
      ]
     },
     "execution_count": 21,
     "metadata": {},
     "output_type": "execute_result"
    }
   ],
   "source": [
    "type(lista3)"
   ]
  },
  {
   "cell_type": "code",
   "execution_count": 22,
   "metadata": {},
   "outputs": [
    {
     "name": "stdout",
     "output_type": "stream",
     "text": [
      "Universidade 325 None\n"
     ]
    }
   ],
   "source": [
    "#Atribuindo valores da lista em variaveis\n",
    "item1 = lista3[0]\n",
    "item2 = lista3[1]\n",
    "item3 = lista3[2]\n",
    "\n",
    "#Imprimindo valores\n",
    "print(item1, item2, item3)"
   ]
  },
  {
   "cell_type": "markdown",
   "metadata": {},
   "source": [
    "<h2>Atualizando e Deletando itens da lista porque listas são mutáveis</h2> "
   ]
  },
  {
   "cell_type": "code",
   "execution_count": 25,
   "metadata": {},
   "outputs": [],
   "source": [
    "#Atualizando\n",
    "lista3[2] =\"bolo de chocolate\""
   ]
  },
  {
   "cell_type": "code",
   "execution_count": 27,
   "metadata": {},
   "outputs": [
    {
     "name": "stdout",
     "output_type": "stream",
     "text": [
      "['Universidade', 325, 'bolo de chocolate', <class 'bool'>]\n"
     ]
    }
   ],
   "source": [
    "#Imprimindo valores\n",
    "print(lista3)"
   ]
  },
  {
   "cell_type": "code",
   "execution_count": 29,
   "metadata": {},
   "outputs": [],
   "source": [
    "#Deletando valores\n",
    "del lista3[3]"
   ]
  },
  {
   "cell_type": "code",
   "execution_count": 30,
   "metadata": {},
   "outputs": [
    {
     "name": "stdout",
     "output_type": "stream",
     "text": [
      "['Universidade', 325, 'bolo de chocolate']\n"
     ]
    }
   ],
   "source": [
    "#Imprimindo valores\n",
    "print(lista3)"
   ]
  },
  {
   "cell_type": "markdown",
   "metadata": {},
   "source": [
    "<h2>Lista de Listas (Listas aninhadas)</h2>"
   ]
  },
  {
   "cell_type": "code",
   "execution_count": 32,
   "metadata": {},
   "outputs": [],
   "source": [
    "#Criando a lista de listas\n",
    "lista4 = [['1','2'], ['3','4'],['5','6']]"
   ]
  },
  {
   "cell_type": "code",
   "execution_count": 33,
   "metadata": {},
   "outputs": [
    {
     "data": {
      "text/plain": [
       "[['1', '2'], ['3', '4'], ['5', '6']]"
      ]
     },
     "execution_count": 33,
     "metadata": {},
     "output_type": "execute_result"
    }
   ],
   "source": [
    "#Imprimindo a Lista de Listas\n",
    "lista4"
   ]
  },
  {
   "cell_type": "code",
   "execution_count": 36,
   "metadata": {},
   "outputs": [],
   "source": [
    "#atribuindo itens da lista em uma variável. Ou seja, atribuindo uma lista da lista\n",
    "pedaco1 = lista4[0] \n",
    "pedaco2 = lista4[1]\n",
    "pedaco3 = lista4[2]"
   ]
  },
  {
   "cell_type": "code",
   "execution_count": 41,
   "metadata": {},
   "outputs": [
    {
     "name": "stdout",
     "output_type": "stream",
     "text": [
      "['1', '2']\n",
      "\n",
      "\n",
      "['3', '4']\n",
      "\n",
      "\n",
      "['5', '6']\n"
     ]
    }
   ],
   "source": [
    "#mostrando os pedaços\n",
    "print(pedaco1)\n",
    "print(\"\\n\")\n",
    "print(pedaco2)\n",
    "print(\"\\n\")\n",
    "print(pedaco3)"
   ]
  },
  {
   "cell_type": "code",
   "execution_count": 43,
   "metadata": {},
   "outputs": [
    {
     "name": "stdout",
     "output_type": "stream",
     "text": [
      "1\n"
     ]
    }
   ],
   "source": [
    "#Atribuindo Itens a pedaços dos pedaços\n",
    "iten1_pedaco1 = pedaco1[0]\n",
    "\n",
    "#mostrando na tela\n",
    "print(iten1_pedaco1)"
   ]
  },
  {
   "cell_type": "markdown",
   "metadata": {},
   "source": [
    "<h2>Operações com Listas</h2> "
   ]
  },
  {
   "cell_type": "code",
   "execution_count": 52,
   "metadata": {},
   "outputs": [],
   "source": [
    "listas = [['1','2'], ['3','4'],['5','6']]"
   ]
  },
  {
   "cell_type": "code",
   "execution_count": 53,
   "metadata": {},
   "outputs": [
    {
     "data": {
      "text/plain": [
       "[['1', '2'], ['3', '4'], ['5', '6']]"
      ]
     },
     "execution_count": 53,
     "metadata": {},
     "output_type": "execute_result"
    }
   ],
   "source": [
    "listas"
   ]
  },
  {
   "cell_type": "code",
   "execution_count": 58,
   "metadata": {},
   "outputs": [],
   "source": [
    "#Atribuindo à variável item1A, o primeiro valor da primeira lista (1)\n",
    "item0A = listas[0][0]"
   ]
  },
  {
   "cell_type": "code",
   "execution_count": 59,
   "metadata": {
    "scrolled": true
   },
   "outputs": [
    {
     "data": {
      "text/plain": [
       "'1'"
      ]
     },
     "execution_count": 59,
     "metadata": {},
     "output_type": "execute_result"
    }
   ],
   "source": [
    "item0A ## Cordenada Linha x Coluna"
   ]
  },
  {
   "cell_type": "code",
   "execution_count": 60,
   "metadata": {},
   "outputs": [],
   "source": [
    "item1A = listas[0][1]"
   ]
  },
  {
   "cell_type": "code",
   "execution_count": 61,
   "metadata": {},
   "outputs": [
    {
     "data": {
      "text/plain": [
       "'2'"
      ]
     },
     "execution_count": 61,
     "metadata": {},
     "output_type": "execute_result"
    }
   ],
   "source": [
    "item1A"
   ]
  },
  {
   "cell_type": "code",
   "execution_count": 62,
   "metadata": {},
   "outputs": [],
   "source": [
    "#['1', '2']   Linha 0, Coluna 0 e 1\n",
    "#['3', '4']   Linha 1, Coluna 0 e 1\n",
    "#['5', '6']   Linha 2, Coluna 0 e 1"
   ]
  },
  {
   "cell_type": "code",
   "execution_count": 65,
   "metadata": {},
   "outputs": [
    {
     "name": "stdout",
     "output_type": "stream",
     "text": [
      "['1', '2']\n",
      "\n",
      "\n",
      "['3', '4']\n",
      "\n",
      "\n",
      "['1', '2', '3', '4']\n",
      "\n",
      "\n"
     ]
    }
   ],
   "source": [
    "#Concatenando Listas\n",
    "lista_1 = listas[0]\n",
    "lista_2 = listas[1]\n",
    "\n",
    "print(lista_1)\n",
    "print('\\n')\n",
    "print(lista_2)\n",
    "print('\\n')\n",
    "\n",
    "#Concatenadno\n",
    "listaTotal = lista_1 + lista_2\n",
    "\n",
    "#Mostrando\n",
    "print(listaTotal)\n",
    "print('\\n')"
   ]
  },
  {
   "cell_type": "markdown",
   "metadata": {},
   "source": [
    "<h2>Operador In</h2>"
   ]
  },
  {
   "cell_type": "code",
   "execution_count": 70,
   "metadata": {},
   "outputs": [],
   "source": [
    "#Criando uma Lista\n",
    "lista_teste_op = [100,20,35,42,21,12]"
   ]
  },
  {
   "cell_type": "code",
   "execution_count": 71,
   "metadata": {},
   "outputs": [
    {
     "name": "stdout",
     "output_type": "stream",
     "text": [
      "False\n"
     ]
    }
   ],
   "source": [
    "#Verificando se o valor 200 pertence a lista\n",
    "print(200 in lista_teste_op)"
   ]
  },
  {
   "cell_type": "code",
   "execution_count": 72,
   "metadata": {},
   "outputs": [
    {
     "name": "stdout",
     "output_type": "stream",
     "text": [
      "True\n"
     ]
    }
   ],
   "source": [
    "#Verificando se o valor 42 pertence a lista\n",
    "print(42 in lista_teste_op)"
   ]
  },
  {
   "cell_type": "markdown",
   "metadata": {},
   "source": [
    "<h2>Funções Built-in</h2>"
   ]
  },
  {
   "cell_type": "code",
   "execution_count": 74,
   "metadata": {},
   "outputs": [
    {
     "data": {
      "text/plain": [
       "6"
      ]
     },
     "execution_count": 74,
     "metadata": {},
     "output_type": "execute_result"
    }
   ],
   "source": [
    "#Função Leng - retorna o lenght da lista, ou seja, o seu tamanho\n",
    "len(lista_teste_op) #6 elementos"
   ]
  },
  {
   "cell_type": "code",
   "execution_count": 76,
   "metadata": {},
   "outputs": [
    {
     "data": {
      "text/plain": [
       "100"
      ]
     },
     "execution_count": 76,
     "metadata": {},
     "output_type": "execute_result"
    }
   ],
   "source": [
    "#Maior valor da lista\n",
    "max(lista_teste_op)"
   ]
  },
  {
   "cell_type": "code",
   "execution_count": 77,
   "metadata": {},
   "outputs": [
    {
     "data": {
      "text/plain": [
       "12"
      ]
     },
     "execution_count": 77,
     "metadata": {},
     "output_type": "execute_result"
    }
   ],
   "source": [
    "#Menor valor da lista\n",
    "min(lista_teste_op)"
   ]
  },
  {
   "cell_type": "code",
   "execution_count": 78,
   "metadata": {},
   "outputs": [],
   "source": [
    "#Adiconal elementos a lista (.append)\n",
    "lista_teste_op.append(\"item adicionado\")"
   ]
  },
  {
   "cell_type": "code",
   "execution_count": 80,
   "metadata": {},
   "outputs": [],
   "source": [
    "#Adiconal elementos a lista (.append)\n",
    "lista_teste_op.append(\"carne\")\n",
    "lista_teste_op.append(\"carne\")"
   ]
  },
  {
   "cell_type": "code",
   "execution_count": 81,
   "metadata": {},
   "outputs": [
    {
     "data": {
      "text/plain": [
       "[100, 20, 35, 42, 21, 12, 'item adicionado', 'carne', 'carne']"
      ]
     },
     "execution_count": 81,
     "metadata": {},
     "output_type": "execute_result"
    }
   ],
   "source": [
    "#Monstrando a Lista\n",
    "lista_teste_op"
   ]
  },
  {
   "cell_type": "code",
   "execution_count": 85,
   "metadata": {},
   "outputs": [
    {
     "name": "stdout",
     "output_type": "stream",
     "text": [
      "2\n"
     ]
    }
   ],
   "source": [
    "#Contando a quantas vezes se repete um item da lista\n",
    "print(lista_teste_op.count(\"carne\")) #2vezes"
   ]
  },
  {
   "cell_type": "code",
   "execution_count": 86,
   "metadata": {},
   "outputs": [],
   "source": [
    "#Criando lista vazia\n",
    "emptyList = []"
   ]
  },
  {
   "cell_type": "code",
   "execution_count": 87,
   "metadata": {},
   "outputs": [
    {
     "name": "stdout",
     "output_type": "stream",
     "text": [
      "[]\n"
     ]
    }
   ],
   "source": [
    "#Mostrando\n",
    "print(emptyList)"
   ]
  },
  {
   "cell_type": "code",
   "execution_count": 88,
   "metadata": {},
   "outputs": [
    {
     "data": {
      "text/plain": [
       "list"
      ]
     },
     "execution_count": 88,
     "metadata": {},
     "output_type": "execute_result"
    }
   ],
   "source": [
    "#Type of\n",
    "type(emptyList)"
   ]
  },
  {
   "cell_type": "code",
   "execution_count": 90,
   "metadata": {},
   "outputs": [],
   "source": [
    "#Adicionando itens \n",
    "emptyList.append(\"isn't empty now\")"
   ]
  },
  {
   "cell_type": "code",
   "execution_count": 91,
   "metadata": {},
   "outputs": [
    {
     "data": {
      "text/plain": [
       "[\"isn't empty now\", \"isn't empty now\"]"
      ]
     },
     "execution_count": 91,
     "metadata": {},
     "output_type": "execute_result"
    }
   ],
   "source": [
    "#Mostrando Valores\n",
    "emptyList"
   ]
  },
  {
   "cell_type": "code",
   "execution_count": 92,
   "metadata": {},
   "outputs": [],
   "source": [
    "old_list = [1,2,5,10]"
   ]
  },
  {
   "cell_type": "code",
   "execution_count": 93,
   "metadata": {},
   "outputs": [],
   "source": [
    "new_list=[]"
   ]
  },
  {
   "cell_type": "code",
   "execution_count": 94,
   "metadata": {},
   "outputs": [],
   "source": [
    "#Copiando valores da Lista velha para a nova utilizando laço\n",
    "for item in old_list:\n",
    "    new_list.append(item)\n",
    "#Lê-se:\n",
    "# PARA item EM old_list FAÇA\n",
    "#     new_list.ADICIONA(item)"
   ]
  },
  {
   "cell_type": "code",
   "execution_count": 95,
   "metadata": {},
   "outputs": [
    {
     "data": {
      "text/plain": [
       "[1, 2, 5, 10]"
      ]
     },
     "execution_count": 95,
     "metadata": {},
     "output_type": "execute_result"
    }
   ],
   "source": [
    "new_list"
   ]
  },
  {
   "cell_type": "code",
   "execution_count": 96,
   "metadata": {},
   "outputs": [
    {
     "data": {
      "text/plain": [
       "1"
      ]
     },
     "execution_count": 96,
     "metadata": {},
     "output_type": "execute_result"
    }
   ],
   "source": [
    "new_list.count(2)"
   ]
  },
  {
   "cell_type": "code",
   "execution_count": 118,
   "metadata": {},
   "outputs": [
    {
     "name": "stdout",
     "output_type": "stream",
     "text": [
      "Lista de cidades ficou: \n",
      " ['São Paulo', 'Rio de Janeiro', 'Porto Alegre', 'Tocantins', 'Recife', 'Minas Gerais', 'Salvador', 'Roraima']\n",
      "\n",
      "\n",
      "\n",
      "Lista de cidades ficou, separada assim: \n",
      "\n",
      "\n",
      "São Paulo\n",
      "Rio de Janeiro\n",
      "Porto Alegre\n",
      "Tocantins\n",
      "Recife\n",
      "Minas Gerais\n",
      "Salvador\n",
      "Roraima\n"
     ]
    }
   ],
   "source": [
    "#Lista de Cidades agora\n",
    "cidades =['São Paulo', 'Rio de Janeiro','Porto Alegre', 'Tocantins', 'Recife']\n",
    "\n",
    "#outra lista de cidades\n",
    "cidades2 = ['Minas Gerais', 'Salvador', 'Roraima']\n",
    "\n",
    "#Extends, da um append LISTA1 em LISTA\n",
    "cidades.extend(cidades2)\n",
    "\n",
    "print(\"Lista de cidades ficou: \\n\", cidades)\n",
    "print('\\n\\n')\n",
    "print(\"Lista de cidades ficou, separada assim: \")\n",
    "print('\\n')\n",
    "\n",
    "#For no Python é como se fosse for each. Portando para fazermos um incrementado, devemos usar while\n",
    "indice=0\n",
    "while indice < len(cidades): #verifica a condição\n",
    "    print(cidades[indice]) #o corpo, a ação\n",
    "    indice += 1 #o passo de \"incremento\"\n",
    "    "
   ]
  },
  {
   "cell_type": "code",
   "execution_count": 120,
   "metadata": {},
   "outputs": [
    {
     "data": {
      "text/plain": [
       "4"
      ]
     },
     "execution_count": 120,
     "metadata": {},
     "output_type": "execute_result"
    }
   ],
   "source": [
    "#Vendo o indice de algum elemento\n",
    "cidades.index('Recife')"
   ]
  },
  {
   "cell_type": "code",
   "execution_count": 121,
   "metadata": {},
   "outputs": [
    {
     "data": {
      "text/plain": [
       "['São Paulo',\n",
       " 'Rio de Janeiro',\n",
       " 'Porto Alegre',\n",
       " 'Tocantins',\n",
       " 'Recife',\n",
       " 'Minas Gerais',\n",
       " 'Salvador',\n",
       " 'Roraima']"
      ]
     },
     "execution_count": 121,
     "metadata": {},
     "output_type": "execute_result"
    }
   ],
   "source": [
    "cidades"
   ]
  },
  {
   "cell_type": "code",
   "execution_count": 123,
   "metadata": {},
   "outputs": [
    {
     "ename": "ValueError",
     "evalue": "'Amapá' is not in list",
     "output_type": "error",
     "traceback": [
      "\u001b[1;31m---------------------------------------------------------------------------\u001b[0m",
      "\u001b[1;31mValueError\u001b[0m                                Traceback (most recent call last)",
      "\u001b[1;32m<ipython-input-123-1a3cb05bffdc>\u001b[0m in \u001b[0;36m<module>\u001b[1;34m\u001b[0m\n\u001b[0;32m      1\u001b[0m \u001b[1;31m#Vendo o indice de algum elemento inexiste\u001b[0m\u001b[1;33m\u001b[0m\u001b[1;33m\u001b[0m\u001b[1;33m\u001b[0m\u001b[0m\n\u001b[1;32m----> 2\u001b[1;33m \u001b[0mcidades\u001b[0m\u001b[1;33m.\u001b[0m\u001b[0mindex\u001b[0m\u001b[1;33m(\u001b[0m\u001b[1;34m'Amapá'\u001b[0m\u001b[1;33m)\u001b[0m \u001b[1;31m#Da Erro\u001b[0m\u001b[1;33m\u001b[0m\u001b[1;33m\u001b[0m\u001b[0m\n\u001b[0m",
      "\u001b[1;31mValueError\u001b[0m: 'Amapá' is not in list"
     ]
    }
   ],
   "source": [
    "#Vendo o indice de algum elemento inexiste\n",
    "cidades.index('Amapá') #Da Erro"
   ]
  },
  {
   "cell_type": "code",
   "execution_count": 124,
   "metadata": {},
   "outputs": [
    {
     "data": {
      "text/plain": [
       "['São Paulo',\n",
       " 'Rio de Janeiro',\n",
       " 'Porto Alegre',\n",
       " 'Tocantins',\n",
       " 'Recife',\n",
       " 'Minas Gerais',\n",
       " 'Salvador',\n",
       " 'Roraima']"
      ]
     },
     "execution_count": 124,
     "metadata": {},
     "output_type": "execute_result"
    }
   ],
   "source": [
    "cidades"
   ]
  },
  {
   "cell_type": "code",
   "execution_count": 125,
   "metadata": {},
   "outputs": [],
   "source": [
    "#Inserindo itens em uma posição especifica \n",
    "cidades.insert(2,250) #insert(posição, valor)"
   ]
  },
  {
   "cell_type": "code",
   "execution_count": 126,
   "metadata": {},
   "outputs": [
    {
     "data": {
      "text/plain": [
       "['São Paulo',\n",
       " 'Rio de Janeiro',\n",
       " 250,\n",
       " 'Porto Alegre',\n",
       " 'Tocantins',\n",
       " 'Recife',\n",
       " 'Minas Gerais',\n",
       " 'Salvador',\n",
       " 'Roraima']"
      ]
     },
     "execution_count": 126,
     "metadata": {},
     "output_type": "execute_result"
    }
   ],
   "source": [
    "cidades"
   ]
  },
  {
   "cell_type": "code",
   "execution_count": 127,
   "metadata": {},
   "outputs": [],
   "source": [
    "#Remove o elemento da lista\n",
    "cidades.remove(250)"
   ]
  },
  {
   "cell_type": "code",
   "execution_count": 128,
   "metadata": {},
   "outputs": [
    {
     "data": {
      "text/plain": [
       "['São Paulo',\n",
       " 'Rio de Janeiro',\n",
       " 'Porto Alegre',\n",
       " 'Tocantins',\n",
       " 'Recife',\n",
       " 'Minas Gerais',\n",
       " 'Salvador',\n",
       " 'Roraima']"
      ]
     },
     "execution_count": 128,
     "metadata": {},
     "output_type": "execute_result"
    }
   ],
   "source": [
    "cidades"
   ]
  },
  {
   "cell_type": "code",
   "execution_count": 129,
   "metadata": {},
   "outputs": [],
   "source": [
    "#Reverte a Lista\n",
    "cidades.reverse()"
   ]
  },
  {
   "cell_type": "code",
   "execution_count": 130,
   "metadata": {},
   "outputs": [
    {
     "data": {
      "text/plain": [
       "['Roraima',\n",
       " 'Salvador',\n",
       " 'Minas Gerais',\n",
       " 'Recife',\n",
       " 'Tocantins',\n",
       " 'Porto Alegre',\n",
       " 'Rio de Janeiro',\n",
       " 'São Paulo']"
      ]
     },
     "execution_count": 130,
     "metadata": {},
     "output_type": "execute_result"
    }
   ],
   "source": [
    "cidades"
   ]
  },
  {
   "cell_type": "code",
   "execution_count": 131,
   "metadata": {},
   "outputs": [],
   "source": [
    "#Ordenar a lista\n",
    "cidades.sort()"
   ]
  },
  {
   "cell_type": "code",
   "execution_count": 132,
   "metadata": {},
   "outputs": [
    {
     "data": {
      "text/plain": [
       "['Minas Gerais',\n",
       " 'Porto Alegre',\n",
       " 'Recife',\n",
       " 'Rio de Janeiro',\n",
       " 'Roraima',\n",
       " 'Salvador',\n",
       " 'São Paulo',\n",
       " 'Tocantins']"
      ]
     },
     "execution_count": 132,
     "metadata": {},
     "output_type": "execute_result"
    }
   ],
   "source": [
    "cidades"
   ]
  },
  {
   "cell_type": "code",
   "execution_count": 133,
   "metadata": {},
   "outputs": [],
   "source": [
    "#Funciona para valores numericos tbm\n",
    "listaNum = [15,2,3,17,42,69,10,9,56,32,14,7,5,19,521]"
   ]
  },
  {
   "cell_type": "code",
   "execution_count": 134,
   "metadata": {},
   "outputs": [
    {
     "data": {
      "text/plain": [
       "[15, 2, 3, 17, 42, 69, 10, 9, 56, 32, 14, 7, 5, 19, 521]"
      ]
     },
     "execution_count": 134,
     "metadata": {},
     "output_type": "execute_result"
    }
   ],
   "source": [
    "#Mostrando\n",
    "listaNum"
   ]
  },
  {
   "cell_type": "code",
   "execution_count": 136,
   "metadata": {},
   "outputs": [],
   "source": [
    "#Ordenando\n",
    "listaNum.sort()"
   ]
  },
  {
   "cell_type": "code",
   "execution_count": 137,
   "metadata": {},
   "outputs": [
    {
     "data": {
      "text/plain": [
       "[2, 3, 5, 7, 9, 10, 14, 15, 17, 19, 32, 42, 56, 69, 521]"
      ]
     },
     "execution_count": 137,
     "metadata": {},
     "output_type": "execute_result"
    }
   ],
   "source": [
    "#Mostrando\n",
    "listaNum"
   ]
  },
  {
   "cell_type": "markdown",
   "metadata": {},
   "source": [
    "<div style=\"align-items: center; justify-content: center; display:flex\">\n",
    "    <h1>FIM</h1>\n",
    "</div>"
   ]
  }
 ],
 "metadata": {
  "kernelspec": {
   "display_name": "Python 3",
   "language": "python",
   "name": "python3"
  },
  "language_info": {
   "codemirror_mode": {
    "name": "ipython",
    "version": 3
   },
   "file_extension": ".py",
   "mimetype": "text/x-python",
   "name": "python",
   "nbconvert_exporter": "python",
   "pygments_lexer": "ipython3",
   "version": "3.8.5"
  }
 },
 "nbformat": 4,
 "nbformat_minor": 4
}
